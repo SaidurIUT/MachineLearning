{
  "nbformat": 4,
  "nbformat_minor": 0,
  "metadata": {
    "colab": {
      "provenance": [],
      "collapsed_sections": [
        "-C7SvUpfmFCg",
        "bLsca98koMGL",
        "OcfCNPTtoxEi",
        "S_ByRGUuqpqj",
        "yqvxKJMt8srl",
        "4aOo8lOmJo75",
        "lDfGWH9dhOUF",
        "jmIoJ5JnxBiL"
      ],
      "authorship_tag": "ABX9TyPecyQD1M+6CXJgTvDH+5Jz",
      "include_colab_link": true
    },
    "kernelspec": {
      "name": "python3",
      "display_name": "Python 3"
    },
    "language_info": {
      "name": "python"
    }
  },
  "cells": [
    {
      "cell_type": "markdown",
      "metadata": {
        "id": "view-in-github",
        "colab_type": "text"
      },
      "source": [
        "<a href=\"https://colab.research.google.com/github/SaidurIUT/MachineLearning/blob/main/2_PythonBasics.ipynb\" target=\"_parent\"><img src=\"https://colab.research.google.com/assets/colab-badge.svg\" alt=\"Open In Colab\"/></a>"
      ]
    },
    {
      "cell_type": "markdown",
      "source": [
        "#Basics of PYTHON for Machine Learnig\n"
      ],
      "metadata": {
        "id": "JlMy1GCtkVmV"
      }
    },
    {
      "cell_type": "markdown",
      "source": [
        "#Print Function"
      ],
      "metadata": {
        "id": "-C7SvUpfmFCg"
      }
    },
    {
      "cell_type": "code",
      "source": [
        "print(\"Hello Machine Learning\")\n",
        "\n"
      ],
      "metadata": {
        "colab": {
          "base_uri": "https://localhost:8080/"
        },
        "id": "IyOJDGwNmJ9_",
        "outputId": "951f7648-9d50-41e4-f6ae-29868dcc522e"
      },
      "execution_count": 1,
      "outputs": [
        {
          "output_type": "stream",
          "name": "stdout",
          "text": [
            "Hello Machine Learning\n"
          ]
        }
      ]
    },
    {
      "cell_type": "code",
      "source": [
        "print(\"Hello\" + \" Machine\" + \" Learning\")"
      ],
      "metadata": {
        "colab": {
          "base_uri": "https://localhost:8080/"
        },
        "id": "TRgWJpxVnX-g",
        "outputId": "e9e2c600-e36a-4123-c785-2273a81701c4"
      },
      "execution_count": 3,
      "outputs": [
        {
          "output_type": "stream",
          "name": "stdout",
          "text": [
            "Hello Machine Learning\n"
          ]
        }
      ]
    },
    {
      "cell_type": "code",
      "source": [
        "print(7)"
      ],
      "metadata": {
        "colab": {
          "base_uri": "https://localhost:8080/"
        },
        "id": "6FM6EkjunqJS",
        "outputId": "fb7d5f8c-b425-45aa-aa29-fa3c87b2ce99"
      },
      "execution_count": 4,
      "outputs": [
        {
          "output_type": "stream",
          "name": "stdout",
          "text": [
            "7\n"
          ]
        }
      ]
    },
    {
      "cell_type": "code",
      "source": [
        "print(7+5)"
      ],
      "metadata": {
        "colab": {
          "base_uri": "https://localhost:8080/"
        },
        "id": "4dAW35jAn06X",
        "outputId": "a083a29f-671a-4fd9-dcab-ecc00e3b4735"
      },
      "execution_count": 5,
      "outputs": [
        {
          "output_type": "stream",
          "name": "stdout",
          "text": [
            "12\n"
          ]
        }
      ]
    },
    {
      "cell_type": "code",
      "source": [
        "print(\"7\"+\"5\")"
      ],
      "metadata": {
        "colab": {
          "base_uri": "https://localhost:8080/"
        },
        "id": "EZM7bCFzn4pu",
        "outputId": "d04191c1-e2fa-4883-d07e-c5bd74ec1c96"
      },
      "execution_count": 6,
      "outputs": [
        {
          "output_type": "stream",
          "name": "stdout",
          "text": [
            "75\n"
          ]
        }
      ]
    },
    {
      "cell_type": "code",
      "source": [],
      "metadata": {
        "id": "S7rEO2gbn8aM"
      },
      "execution_count": null,
      "outputs": []
    },
    {
      "cell_type": "markdown",
      "source": [],
      "metadata": {
        "id": "r2ppoSVxoJ5e"
      }
    },
    {
      "cell_type": "markdown",
      "source": [
        "#Basic Data types"
      ],
      "metadata": {
        "id": "bLsca98koMGL"
      }
    },
    {
      "cell_type": "code",
      "source": [
        "type(8)"
      ],
      "metadata": {
        "colab": {
          "base_uri": "https://localhost:8080/"
        },
        "id": "JEW4-JNboQM5",
        "outputId": "6203c976-0260-46b5-8f68-144ccb57f145"
      },
      "execution_count": 7,
      "outputs": [
        {
          "output_type": "execute_result",
          "data": {
            "text/plain": [
              "int"
            ]
          },
          "metadata": {},
          "execution_count": 7
        }
      ]
    },
    {
      "cell_type": "code",
      "source": [
        "type(3.5)"
      ],
      "metadata": {
        "colab": {
          "base_uri": "https://localhost:8080/"
        },
        "id": "0HflnL96omSd",
        "outputId": "df91dd95-b427-420c-81b2-06d5cdee5408"
      },
      "execution_count": 8,
      "outputs": [
        {
          "output_type": "execute_result",
          "data": {
            "text/plain": [
              "float"
            ]
          },
          "metadata": {},
          "execution_count": 8
        }
      ]
    },
    {
      "cell_type": "code",
      "source": [],
      "metadata": {
        "id": "JCHBM8nAop0R"
      },
      "execution_count": null,
      "outputs": []
    },
    {
      "cell_type": "markdown",
      "source": [
        "#Constants and Varables"
      ],
      "metadata": {
        "id": "OcfCNPTtoxEi"
      }
    },
    {
      "cell_type": "code",
      "source": [
        "superHero = \"Iron man\"\n",
        "\n",
        "print(superHero)"
      ],
      "metadata": {
        "colab": {
          "base_uri": "https://localhost:8080/"
        },
        "id": "jDYUYrHNo1Jt",
        "outputId": "b5bc9bd2-50c9-47e4-8c5c-a874349020a9"
      },
      "execution_count": 11,
      "outputs": [
        {
          "output_type": "stream",
          "name": "stdout",
          "text": [
            "Iron man\n"
          ]
        }
      ]
    },
    {
      "cell_type": "code",
      "source": [
        "hero1,hero2,hero3 = \"Salman\" , \"Sakib\" , \"Amir\"\n",
        "print(hero1)\n",
        "print(hero2)\n",
        "print(hero3)\n",
        "print(\"The main hero is\", hero2)\n",
        "print(\"The main hero is\" + hero2)\n",
        "print(\"The main hero is\" + hero2 + hero3)\n",
        "print(\"The main hero is\" + hero2 , hero3)\n",
        "print(hero1 , hero2 , hero3)\n",
        "print(hero1 + hero2 + hero3)\n"
      ],
      "metadata": {
        "colab": {
          "base_uri": "https://localhost:8080/"
        },
        "id": "77e6V5BVpE01",
        "outputId": "8f340d97-140c-4afb-81fe-0e2db4173eae"
      },
      "execution_count": 19,
      "outputs": [
        {
          "output_type": "stream",
          "name": "stdout",
          "text": [
            "Salman\n",
            "Sakib\n",
            "Amir\n",
            "The main hero is Sakib\n",
            "The main hero isSakib\n",
            "The main hero isSakibAmir\n",
            "The main hero isSakib Amir\n",
            "Salman Sakib Amir\n",
            "SalmanSakibAmir\n"
          ]
        }
      ]
    },
    {
      "cell_type": "code",
      "source": [],
      "metadata": {
        "id": "ar5fDrvCpwcV"
      },
      "execution_count": null,
      "outputs": []
    },
    {
      "cell_type": "markdown",
      "source": [
        "#Input"
      ],
      "metadata": {
        "id": "S_ByRGUuqpqj"
      }
    },
    {
      "cell_type": "code",
      "source": [
        "num1 = input(\"Enter the first number: \") #By default it takes as strng\n",
        "num2 = input(\"Enter the second number: \")\n",
        "\n",
        "print(\"Sum of the two numbers is: \", (num1+num2))"
      ],
      "metadata": {
        "colab": {
          "base_uri": "https://localhost:8080/"
        },
        "id": "WorPMYvYquzg",
        "outputId": "bf3fe641-4f8f-4e4d-cb55-04099fb9d7f6"
      },
      "execution_count": 22,
      "outputs": [
        {
          "output_type": "stream",
          "name": "stdout",
          "text": [
            "Enter the first number: 3\n",
            "Enter the second number: 4\n",
            "Sum of the two numbers is:  34\n"
          ]
        }
      ]
    },
    {
      "cell_type": "code",
      "source": [
        "num1 = float(input(\"Enter the first number: \"))  # Convert input to a float\n",
        "num2 = float(input(\"Enter the second number: \")) # Convert input to a float\n",
        "\n",
        "print(\"Sum of the two numbers is:\", num1 + num2) # Add the two numbers and print the result\n"
      ],
      "metadata": {
        "colab": {
          "base_uri": "https://localhost:8080/"
        },
        "id": "Lxt9ZwCvrcCk",
        "outputId": "e2bcb9af-4038-42dd-8cde-21deb955f822"
      },
      "execution_count": 25,
      "outputs": [
        {
          "output_type": "stream",
          "name": "stdout",
          "text": [
            "Enter the first number: 6\n",
            "Enter the second number: 45\n",
            "Sum of the two numbers is: 51.0\n"
          ]
        }
      ]
    },
    {
      "cell_type": "code",
      "source": [],
      "metadata": {
        "id": "dSX_F5I-r7gd"
      },
      "execution_count": null,
      "outputs": []
    },
    {
      "cell_type": "markdown",
      "source": [
        "#Basic Data types\n"
      ],
      "metadata": {
        "id": "yqvxKJMt8srl"
      }
    },
    {
      "cell_type": "code",
      "source": [
        "#Integers\n",
        "\n",
        "a = 8\n",
        "print(a)"
      ],
      "metadata": {
        "colab": {
          "base_uri": "https://localhost:8080/"
        },
        "id": "aNgnTgkU8yr4",
        "outputId": "b7cd21df-ec8f-4236-a747-85113947c317"
      },
      "execution_count": 1,
      "outputs": [
        {
          "output_type": "stream",
          "name": "stdout",
          "text": [
            "8\n"
          ]
        }
      ]
    },
    {
      "cell_type": "code",
      "source": [
        "type(a)"
      ],
      "metadata": {
        "colab": {
          "base_uri": "https://localhost:8080/"
        },
        "id": "0BsgAvIPARR3",
        "outputId": "396c050b-d0f3-4a87-ed58-aeb5adcaa663"
      },
      "execution_count": 2,
      "outputs": [
        {
          "output_type": "execute_result",
          "data": {
            "text/plain": [
              "int"
            ]
          },
          "metadata": {},
          "execution_count": 2
        }
      ]
    },
    {
      "cell_type": "code",
      "source": [
        "#flotaiing poriint\n",
        "\n",
        "b =2.5\n",
        "\n",
        "print(b)\n",
        "type(b)"
      ],
      "metadata": {
        "colab": {
          "base_uri": "https://localhost:8080/"
        },
        "id": "Rogaa_0RATsK",
        "outputId": "bb63d314-83e4-4382-ad30-962ae7d76539"
      },
      "execution_count": 4,
      "outputs": [
        {
          "output_type": "stream",
          "name": "stdout",
          "text": [
            "2.5\n"
          ]
        },
        {
          "output_type": "execute_result",
          "data": {
            "text/plain": [
              "float"
            ]
          },
          "metadata": {},
          "execution_count": 4
        }
      ]
    },
    {
      "cell_type": "code",
      "source": [
        "#Complerx numbers\n",
        "\n",
        "c1 = 6+2j\n",
        "\n",
        "print(c1)\n",
        "type(c1)"
      ],
      "metadata": {
        "colab": {
          "base_uri": "https://localhost:8080/"
        },
        "id": "ccntgWlPAl1f",
        "outputId": "6cfbe2e2-7a88-4e4f-a0a6-380c31a656c1"
      },
      "execution_count": 6,
      "outputs": [
        {
          "output_type": "stream",
          "name": "stdout",
          "text": [
            "(6+2j)\n"
          ]
        },
        {
          "output_type": "execute_result",
          "data": {
            "text/plain": [
              "complex"
            ]
          },
          "metadata": {},
          "execution_count": 6
        }
      ]
    },
    {
      "cell_type": "code",
      "source": [
        "c2 = 5+2j\n",
        "\n",
        "print(c1+c2)"
      ],
      "metadata": {
        "colab": {
          "base_uri": "https://localhost:8080/"
        },
        "id": "8LfJNGKcA0-p",
        "outputId": "c547c8df-7964-4313-a3ed-7eef226c442a"
      },
      "execution_count": 7,
      "outputs": [
        {
          "output_type": "stream",
          "name": "stdout",
          "text": [
            "(11+4j)\n"
          ]
        }
      ]
    },
    {
      "cell_type": "markdown",
      "source": [
        "Conversion of data types"
      ],
      "metadata": {
        "id": "rneDqMXdBG7c"
      }
    },
    {
      "cell_type": "code",
      "source": [
        "#int to float\n",
        "\n",
        "x = 23\n",
        "\n",
        "print(x)\n",
        "type(x)\n",
        "\n",
        "y = float(x)\n",
        "print(y)\n",
        "type(y)"
      ],
      "metadata": {
        "colab": {
          "base_uri": "https://localhost:8080/"
        },
        "id": "ZT0FPbN1BP8B",
        "outputId": "69e59637-80ed-4a30-fd5c-c072608d155f"
      },
      "execution_count": 9,
      "outputs": [
        {
          "output_type": "stream",
          "name": "stdout",
          "text": [
            "23\n",
            "23.0\n"
          ]
        },
        {
          "output_type": "execute_result",
          "data": {
            "text/plain": [
              "float"
            ]
          },
          "metadata": {},
          "execution_count": 9
        }
      ]
    },
    {
      "cell_type": "code",
      "source": [
        "a = True\n",
        "\n",
        "print(a)\n",
        "\n",
        "type(a)"
      ],
      "metadata": {
        "colab": {
          "base_uri": "https://localhost:8080/"
        },
        "id": "ifqCfsjmBh_e",
        "outputId": "1a258813-144d-4404-c305-1bc2c2a9cdda"
      },
      "execution_count": 10,
      "outputs": [
        {
          "output_type": "stream",
          "name": "stdout",
          "text": [
            "True\n"
          ]
        },
        {
          "output_type": "execute_result",
          "data": {
            "text/plain": [
              "bool"
            ]
          },
          "metadata": {},
          "execution_count": 10
        }
      ]
    },
    {
      "cell_type": "markdown",
      "source": [
        "String Sligiing\n"
      ],
      "metadata": {
        "id": "eF-Z8mlhIB6Z"
      }
    },
    {
      "cell_type": "code",
      "source": [
        "demoString = \"Saeed is the best programmer\"\n",
        "\n",
        "print(demoString[2:5])"
      ],
      "metadata": {
        "colab": {
          "base_uri": "https://localhost:8080/"
        },
        "id": "fAdvzhEwIJMm",
        "outputId": "6aed2b14-078d-4dc7-80e0-17e4f1ba6dd7"
      },
      "execution_count": 12,
      "outputs": [
        {
          "output_type": "stream",
          "name": "stdout",
          "text": [
            "eed\n"
          ]
        }
      ]
    },
    {
      "cell_type": "code",
      "source": [
        "#step\n",
        "\n",
        "print(demoString[0:10:2])"
      ],
      "metadata": {
        "colab": {
          "base_uri": "https://localhost:8080/"
        },
        "id": "LOS8brk0ITji",
        "outputId": "7aa0586e-4872-4fc7-94d8-3d1caae77d9f"
      },
      "execution_count": 13,
      "outputs": [
        {
          "output_type": "stream",
          "name": "stdout",
          "text": [
            "Sedi \n"
          ]
        }
      ]
    },
    {
      "cell_type": "code",
      "source": [
        "#String Concatenaton\n",
        "\n",
        "str1 = \"Programming\"\n",
        "str2 = \"sucks\"\n",
        "\n",
        "print(str1 + str2)\n",
        "print(str1 , str2)\n",
        "\n"
      ],
      "metadata": {
        "colab": {
          "base_uri": "https://localhost:8080/"
        },
        "id": "VuBLHxC0I3CK",
        "outputId": "ca4ac066-a576-47c4-eb8b-84604d9aa025"
      },
      "execution_count": 14,
      "outputs": [
        {
          "output_type": "stream",
          "name": "stdout",
          "text": [
            "Programmingsucks\n",
            "Programming sucks\n"
          ]
        }
      ]
    },
    {
      "cell_type": "code",
      "source": [],
      "metadata": {
        "id": "I4r_lrsPJWbo"
      },
      "execution_count": null,
      "outputs": []
    },
    {
      "cell_type": "markdown",
      "source": [
        "#List\n"
      ],
      "metadata": {
        "id": "4aOo8lOmJo75"
      }
    },
    {
      "cell_type": "code",
      "source": [
        "# list shouild be included in square bracket\n",
        "\n",
        "demoList = [1,2,3,4,5]\n",
        "\n",
        "print(demoList)\n",
        "type(demoList)"
      ],
      "metadata": {
        "colab": {
          "base_uri": "https://localhost:8080/"
        },
        "id": "ce1rwXcpJrHj",
        "outputId": "d38854f7-235f-46a0-9204-b91c43929129"
      },
      "execution_count": 15,
      "outputs": [
        {
          "output_type": "stream",
          "name": "stdout",
          "text": [
            "[1, 2, 3, 4, 5]\n"
          ]
        },
        {
          "output_type": "execute_result",
          "data": {
            "text/plain": [
              "list"
            ]
          },
          "metadata": {},
          "execution_count": 15
        }
      ]
    },
    {
      "cell_type": "code",
      "source": [
        "#Lists can have multiple data types\n",
        "\n",
        "demoList = (2,3,5.3, \"Programming\" , True) #it can not be changed because it is immutable because I used ()\n",
        "\n",
        "print(demoList)"
      ],
      "metadata": {
        "colab": {
          "base_uri": "https://localhost:8080/"
        },
        "id": "iHzedhd0KFeM",
        "outputId": "bda59ffe-6192-402d-b9b4-683838617852"
      },
      "execution_count": 16,
      "outputs": [
        {
          "output_type": "stream",
          "name": "stdout",
          "text": [
            "(2, 3, 5.3, 'Programming', True)\n"
          ]
        }
      ]
    },
    {
      "cell_type": "code",
      "source": [
        "# add elements to a list\n",
        "\n",
        "demoList2 = [2,3,5.3, \"Programming\" , True] #it can be changed because it is mutable because I used []\n",
        "\n",
        "demoList2.append(10)\n",
        "\n",
        "print(demoList2)"
      ],
      "metadata": {
        "colab": {
          "base_uri": "https://localhost:8080/"
        },
        "id": "DROd6tZeKYKP",
        "outputId": "2f96cae2-4b82-4ac6-a522-e4ab9c69be1d"
      },
      "execution_count": 19,
      "outputs": [
        {
          "output_type": "stream",
          "name": "stdout",
          "text": [
            "[2, 3, 5.3, 'Programming', True, 10]\n"
          ]
        }
      ]
    },
    {
      "cell_type": "code",
      "source": [
        "# Adding and deletiing item from list\n",
        "\n",
        "list1= []\n",
        "\n",
        "list1.append(1)\n",
        "list1.append(4)\n",
        "print(list1)\n",
        "\n",
        "\n",
        "del list1[1]\n",
        "print(list1)\n"
      ],
      "metadata": {
        "colab": {
          "base_uri": "https://localhost:8080/"
        },
        "id": "mKms5fRLKq2-",
        "outputId": "ff479529-97ed-4646-e0d6-57700a464c0a"
      },
      "execution_count": 21,
      "outputs": [
        {
          "output_type": "stream",
          "name": "stdout",
          "text": [
            "[1, 4]\n",
            "[1]\n"
          ]
        }
      ]
    },
    {
      "cell_type": "code",
      "source": [
        "#join 2 list\n",
        "\n",
        "\n",
        "list2=[1,2,3,4]\n",
        "list3=[5,6,7,8]\n",
        "\n",
        "list4 = list2 + list3\n",
        "\n",
        "print(list4)"
      ],
      "metadata": {
        "colab": {
          "base_uri": "https://localhost:8080/"
        },
        "id": "2Wl31_dTgnhK",
        "outputId": "ac8532ca-ff32-47a7-f3b2-378f468c7634"
      },
      "execution_count": 24,
      "outputs": [
        {
          "output_type": "stream",
          "name": "stdout",
          "text": [
            "[1, 2, 3, 4, 5, 6, 7, 8]\n"
          ]
        }
      ]
    },
    {
      "cell_type": "code",
      "source": [],
      "metadata": {
        "id": "EoPLWFgIhQfO"
      },
      "execution_count": null,
      "outputs": []
    },
    {
      "cell_type": "markdown",
      "source": [
        "#Tuple\n"
      ],
      "metadata": {
        "id": "lDfGWH9dhOUF"
      }
    },
    {
      "cell_type": "code",
      "source": [
        "tuple1 = (1,2,3,4)\n",
        "\n",
        "type(tuple1)\n",
        "\n",
        "print(tuple1)"
      ],
      "metadata": {
        "colab": {
          "base_uri": "https://localhost:8080/"
        },
        "id": "k9cN2YzfhUge",
        "outputId": "b0d07172-383f-4dd9-f09b-16ec6840a22f"
      },
      "execution_count": 25,
      "outputs": [
        {
          "output_type": "stream",
          "name": "stdout",
          "text": [
            "(1, 2, 3, 4)\n"
          ]
        }
      ]
    },
    {
      "cell_type": "code",
      "source": [],
      "metadata": {
        "id": "xAXWFSrmhiH9"
      },
      "execution_count": null,
      "outputs": []
    },
    {
      "cell_type": "markdown",
      "source": [
        "#If else\n"
      ],
      "metadata": {
        "id": "jmIoJ5JnxBiL"
      }
    },
    {
      "cell_type": "code",
      "source": [
        "a= 39\n",
        "b =54\n",
        "\n",
        "if(a>b):\n",
        "  print( a ,\"is greater than\",b)\n",
        "else:\n",
        "  print(b , \"is greater than\", a)"
      ],
      "metadata": {
        "colab": {
          "base_uri": "https://localhost:8080/"
        },
        "id": "Mwyubcu7xEP2",
        "outputId": "e4e007f9-0799-4390-d81b-9b90d9f57a37"
      },
      "execution_count": 26,
      "outputs": [
        {
          "output_type": "stream",
          "name": "stdout",
          "text": [
            "54 is greater than 39\n"
          ]
        }
      ]
    },
    {
      "cell_type": "code",
      "source": [],
      "metadata": {
        "id": "usCzcR7Yxb36"
      },
      "execution_count": null,
      "outputs": []
    },
    {
      "cell_type": "markdown",
      "source": [
        "#For Loop"
      ],
      "metadata": {
        "id": "NLkM1JA9yH6r"
      }
    },
    {
      "cell_type": "code",
      "source": [
        "for i in range(10):\n",
        "  print(\"this is loop:\" , i+1)"
      ],
      "metadata": {
        "colab": {
          "base_uri": "https://localhost:8080/"
        },
        "id": "A0nJTr9DyKn4",
        "outputId": "a35c47f8-0a38-42a0-f51e-1af9b18759d5"
      },
      "execution_count": 28,
      "outputs": [
        {
          "output_type": "stream",
          "name": "stdout",
          "text": [
            "this is loop: 1\n",
            "this is loop: 2\n",
            "this is loop: 3\n",
            "this is loop: 4\n",
            "this is loop: 5\n",
            "this is loop: 6\n",
            "this is loop: 7\n",
            "this is loop: 8\n",
            "this is loop: 9\n",
            "this is loop: 10\n"
          ]
        }
      ]
    },
    {
      "cell_type": "code",
      "source": [
        "#loops in list\n",
        "\n",
        "numbers = [18 , 43 ,24, 5,54 ,53 , 27]\n",
        "\n",
        "print(\"First method\")\n",
        "\n",
        "for i in range(len(numbers)):\n",
        "  print(numbers[i])\n",
        "\n",
        "\n",
        "print(\"second method\")\n",
        "\n",
        "for i in numbers:\n",
        "  print(i)"
      ],
      "metadata": {
        "colab": {
          "base_uri": "https://localhost:8080/"
        },
        "id": "kLlJOkHuy64T",
        "outputId": "ee67eb2b-4d3d-46ec-f9b2-4a9dcc92ace1"
      },
      "execution_count": 30,
      "outputs": [
        {
          "output_type": "stream",
          "name": "stdout",
          "text": [
            "First method\n",
            "18\n",
            "43\n",
            "24\n",
            "5\n",
            "54\n",
            "53\n",
            "27\n",
            "second method\n",
            "18\n",
            "43\n",
            "24\n",
            "5\n",
            "54\n",
            "53\n",
            "27\n"
          ]
        }
      ]
    },
    {
      "cell_type": "code",
      "source": [],
      "metadata": {
        "id": "eQ_I3xY5z_DG"
      },
      "execution_count": null,
      "outputs": []
    }
  ]
}